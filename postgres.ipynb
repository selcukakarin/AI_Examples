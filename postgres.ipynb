{
  "nbformat": 4,
  "nbformat_minor": 0,
  "metadata": {
    "colab": {
      "name": "Untitled1.ipynb",
      "provenance": [],
      "authorship_tag": "ABX9TyPDMxwXRVBaTbGwHGfLzIlS",
      "include_colab_link": true
    },
    "kernelspec": {
      "name": "python3",
      "display_name": "Python 3"
    }
  },
  "cells": [
    {
      "cell_type": "markdown",
      "metadata": {
        "id": "view-in-github",
        "colab_type": "text"
      },
      "source": [
        "<a href=\"https://colab.research.google.com/github/selcukakarin/AI_Examples/blob/master/postgres.ipynb\" target=\"_parent\"><img src=\"https://colab.research.google.com/assets/colab-badge.svg\" alt=\"Open In Colab\"/></a>"
      ]
    },
    {
      "cell_type": "markdown",
      "metadata": {
        "id": "JYz-oKWwqPKN",
        "colab_type": "text"
      },
      "source": [
        "## postgresql kurulumu\n",
        "\n",
        "[Kaynak](https://tecadmin.net/install-postgresql-server-on-ubuntu/)\n",
        "\n",
        "Start with the import of the GPG key for PostgreSQL packages."
      ]
    },
    {
      "cell_type": "code",
      "metadata": {
        "id": "bfX31NgHqL90",
        "colab_type": "code",
        "colab": {}
      },
      "source": [
        "sudo apt-get install wget ca-certificates\n",
        "\n",
        "wget --quiet -O - https://www.postgresql.org/media/keys/ACCC4CF8.asc | sudo apt-key add -"
      ],
      "execution_count": null,
      "outputs": []
    },
    {
      "cell_type": "markdown",
      "metadata": {
        "id": "H1KqXiycqVZh",
        "colab_type": "text"
      },
      "source": [
        "Now add the repository to your system."
      ]
    },
    {
      "cell_type": "code",
      "metadata": {
        "id": "AJZHCbqOqXDD",
        "colab_type": "code",
        "colab": {}
      },
      "source": [
        "sudo sh -c 'echo \"deb http://apt.postgresql.org/pub/repos/apt/ `lsb_release -cs`-pgdg main\" >> /etc/apt/sources.list.d/pgdg.list'\n",
        "\n",
        "sudo apt-get update\n",
        "\n",
        "sudo apt-get install postgresql-11 \n",
        "\n",
        "sudo apt-get install python-pip python-dev libpq-dev postgresql postgresql-contrib\n",
        "\n",
        "sudo apt-get --purge remove postgresql\n",
        "\n",
        "dpkg -l | grep postgres\n",
        "\n",
        "sudo apt-get --purge remove postgresql postgresql-doc postgresql-common"
      ],
      "execution_count": null,
      "outputs": []
    },
    {
      "cell_type": "markdown",
      "metadata": {
        "id": "LQdDfLCrqXpt",
        "colab_type": "text"
      },
      "source": [
        "## pgadmin4 kurulumu"
      ]
    },
    {
      "cell_type": "code",
      "metadata": {
        "id": "U7lSu0hYqZGc",
        "colab_type": "code",
        "colab": {}
      },
      "source": [
        "sudo apt-get install postgresql-11 pgadmin4"
      ],
      "execution_count": null,
      "outputs": []
    },
    {
      "cell_type": "markdown",
      "metadata": {
        "id": "RzkKmdm_qZrD",
        "colab_type": "text"
      },
      "source": [
        "## postgresql servis başlatma"
      ]
    },
    {
      "cell_type": "code",
      "metadata": {
        "id": "8PV8pl4yqarc",
        "colab_type": "code",
        "colab": {}
      },
      "source": [
        "sudo service postgresql start"
      ],
      "execution_count": null,
      "outputs": []
    },
    {
      "cell_type": "markdown",
      "metadata": {
        "id": "y1kdnwSzqbjo",
        "colab_type": "text"
      },
      "source": [
        "## postgresql işlemleri\n",
        "\n",
        "--------------------------\n",
        "\n",
        "eğer pgadmin4'e postgres ile server eklenemiyorsa aşağıdaki adımları izleyin:"
      ]
    },
    {
      "cell_type": "code",
      "metadata": {
        "id": "il5h3NneqdH_",
        "colab_type": "code",
        "colab": {}
      },
      "source": [
        "1 - sudo -u postgres psql\n",
        "\n",
        "2 - ALTER USER postgres PASSWORD 'newPassword';"
      ],
      "execution_count": null,
      "outputs": []
    },
    {
      "cell_type": "markdown",
      "metadata": {
        "id": "tGBj38q5qecP",
        "colab_type": "text"
      },
      "source": [
        "### Öncelikle sağ click ile bir server oluşturulur server host = localhost olabilir"
      ]
    },
    {
      "cell_type": "code",
      "metadata": {
        "id": "55fM0LFuqgbl",
        "colab_type": "code",
        "colab": {}
      },
      "source": [
        "sudo su - postgres\n",
        "\n",
        "psql\n",
        "\n",
        "CREATE DATABASE LNKCLOUDERP;\n",
        "\n",
        "CREATE USER linkuser WITH PASSWORD '***';\n",
        "\n",
        "ALTER ROLE linkuser SET client_encoding TO 'utf8';\n",
        "\n",
        "ALTER ROLE linkuser SET default_transaction_isolation TO 'read committed';\n",
        "\n",
        "ALTER ROLE linkuser SET timezone TO 'UTC';\n",
        "\n",
        "GRANT ALL PRIVILEGES ON DATABASE LNKCLOUDERP TO linkuser;\n",
        "\n",
        "\\q\n",
        "\n",
        "exit"
      ],
      "execution_count": null,
      "outputs": []
    },
    {
      "cell_type": "markdown",
      "metadata": {
        "id": "x0cbw8BPqiMp",
        "colab_type": "text"
      },
      "source": [
        "## psycopg2 veritabanımızda değişikliğe izin veriyor."
      ]
    },
    {
      "cell_type": "code",
      "metadata": {
        "id": "qa5XpPoDqjpS",
        "colab_type": "code",
        "colab": {}
      },
      "source": [
        "pip install django psycopg2"
      ],
      "execution_count": null,
      "outputs": []
    },
    {
      "cell_type": "markdown",
      "metadata": {
        "id": "fOH68P3lqktM",
        "colab_type": "text"
      },
      "source": [
        "## eğer hata çıkarsa"
      ]
    },
    {
      "cell_type": "code",
      "metadata": {
        "id": "TuTz6Y05qlvM",
        "colab_type": "code",
        "colab": {}
      },
      "source": [
        "apt-get install libpq-dev"
      ],
      "execution_count": null,
      "outputs": []
    }
  ]
}